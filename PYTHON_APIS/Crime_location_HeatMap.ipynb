{
 "cells": [
  {
   "cell_type": "code",
   "execution_count": 25,
   "metadata": {},
   "outputs": [],
   "source": [
    "#import libraries\n",
    "import pandas as pd\n",
    "import gmaps\n",
    "\n",
    "# Access maps with unique API key\n",
    "gmaps.configure(api_key='$$$$')"
   ]
  },
  {
   "cell_type": "code",
   "execution_count": 26,
   "metadata": {},
   "outputs": [
    {
     "data": {
      "text/plain": [
       "Index(['Geo Point', 'Geo Shape', 'SECTOR', 'SUBSECTOR', 'PRIMARY_TY',\n",
       "       'SEC_CLASS', 'DATE_CREAT', 'DATE_MODIF', 'COMP_AFFIL', 'NAME', 'NAME2',\n",
       "       'NAME3', 'ADDRESS1', 'ADDRESS2', 'PO_BOX', 'PO_ZIP', 'CITY', 'STATE',\n",
       "       'ZIP', 'ZIP_4', 'COUNTY', 'HSIP_AOI', 'FEMA_REGIO', 'LATITUDE',\n",
       "       'LONGITUDE', 'RELIABILIT', 'COORSOURCE', 'COMMENTS_1', 'CONFERENCE',\n",
       "       'DIVISION', 'CAPACITY', 'ROOF_TYPE', 'TEAM,,,,'],\n",
       "      dtype='object')"
      ]
     },
     "execution_count": 26,
     "metadata": {},
     "output_type": "execute_result"
    }
   ],
   "source": [
    "#import, read & create initial data frame\n",
    "csv_path = \"stadiums_nfl.csv\"\n",
    "df = pd.read_csv(csv_path, sep=';')\n",
    "\n",
    "#show column headers\n",
    "df.columns"
   ]
  },
  {
   "cell_type": "code",
   "execution_count": 27,
   "metadata": {},
   "outputs": [
    {
     "data": {
      "text/html": [
       "<div>\n",
       "<style scoped>\n",
       "    .dataframe tbody tr th:only-of-type {\n",
       "        vertical-align: middle;\n",
       "    }\n",
       "\n",
       "    .dataframe tbody tr th {\n",
       "        vertical-align: top;\n",
       "    }\n",
       "\n",
       "    .dataframe thead th {\n",
       "        text-align: right;\n",
       "    }\n",
       "</style>\n",
       "<table border=\"1\" class=\"dataframe\">\n",
       "  <thead>\n",
       "    <tr style=\"text-align: right;\">\n",
       "      <th></th>\n",
       "      <th>TEAM</th>\n",
       "      <th>CRIME</th>\n",
       "    </tr>\n",
       "  </thead>\n",
       "  <tbody>\n",
       "    <tr>\n",
       "      <td>0</td>\n",
       "      <td>Philadelphia Eagles</td>\n",
       "      <td>20</td>\n",
       "    </tr>\n",
       "    <tr>\n",
       "      <td>1</td>\n",
       "      <td>San Diego Chargers\",</td>\n",
       "      <td>27</td>\n",
       "    </tr>\n",
       "    <tr>\n",
       "      <td>2</td>\n",
       "      <td>Carolina Panthers\",</td>\n",
       "      <td>24</td>\n",
       "    </tr>\n",
       "    <tr>\n",
       "      <td>3</td>\n",
       "      <td>Jacksonville Jaguars\",</td>\n",
       "      <td>37</td>\n",
       "    </tr>\n",
       "    <tr>\n",
       "      <td>4</td>\n",
       "      <td>Chicago Bers\",</td>\n",
       "      <td>32</td>\n",
       "    </tr>\n",
       "  </tbody>\n",
       "</table>\n",
       "</div>"
      ],
      "text/plain": [
       "                     TEAM  CRIME\n",
       "0     Philadelphia Eagles     20\n",
       "1    San Diego Chargers\",     27\n",
       "2     Carolina Panthers\",     24\n",
       "3  Jacksonville Jaguars\",     37\n",
       "4          Chicago Bers\",     32"
      ]
     },
     "execution_count": 27,
     "metadata": {},
     "output_type": "execute_result"
    }
   ],
   "source": [
    "#import, read & create initial data frame\n",
    "csv_path = \"team_arrests.csv\"\n",
    "arrests_df = pd.read_csv(csv_path)\n",
    "arrests_df.head()\n"
   ]
  },
  {
   "cell_type": "code",
   "execution_count": 28,
   "metadata": {},
   "outputs": [
    {
     "data": {
      "text/html": [
       "<div>\n",
       "<style scoped>\n",
       "    .dataframe tbody tr th:only-of-type {\n",
       "        vertical-align: middle;\n",
       "    }\n",
       "\n",
       "    .dataframe tbody tr th {\n",
       "        vertical-align: top;\n",
       "    }\n",
       "\n",
       "    .dataframe thead th {\n",
       "        text-align: right;\n",
       "    }\n",
       "</style>\n",
       "<table border=\"1\" class=\"dataframe\">\n",
       "  <thead>\n",
       "    <tr style=\"text-align: right;\">\n",
       "      <th></th>\n",
       "      <th>TEAM</th>\n",
       "      <th>LATITUDE</th>\n",
       "      <th>LONGITUDE</th>\n",
       "    </tr>\n",
       "  </thead>\n",
       "  <tbody>\n",
       "    <tr>\n",
       "      <td>0</td>\n",
       "      <td>Philadelphia Eagles</td>\n",
       "      <td>39.90147</td>\n",
       "      <td>-75.16729</td>\n",
       "    </tr>\n",
       "    <tr>\n",
       "      <td>1</td>\n",
       "      <td>San Diego Chargers\",</td>\n",
       "      <td>32.78322</td>\n",
       "      <td>-117.11976</td>\n",
       "    </tr>\n",
       "    <tr>\n",
       "      <td>2</td>\n",
       "      <td>Carolina Panthers\",</td>\n",
       "      <td>35.22584</td>\n",
       "      <td>-80.85331</td>\n",
       "    </tr>\n",
       "    <tr>\n",
       "      <td>3</td>\n",
       "      <td>Jacksonville Jaguars\",</td>\n",
       "      <td>30.32387</td>\n",
       "      <td>-81.63690</td>\n",
       "    </tr>\n",
       "    <tr>\n",
       "      <td>4</td>\n",
       "      <td>Chicago Bers\",</td>\n",
       "      <td>41.86250</td>\n",
       "      <td>-87.61677</td>\n",
       "    </tr>\n",
       "  </tbody>\n",
       "</table>\n",
       "</div>"
      ],
      "text/plain": [
       "                     TEAM  LATITUDE  LONGITUDE\n",
       "0     Philadelphia Eagles  39.90147  -75.16729\n",
       "1    San Diego Chargers\",  32.78322 -117.11976\n",
       "2     Carolina Panthers\",  35.22584  -80.85331\n",
       "3  Jacksonville Jaguars\",  30.32387  -81.63690\n",
       "4          Chicago Bers\",  41.86250  -87.61677"
      ]
     },
     "execution_count": 28,
     "metadata": {},
     "output_type": "execute_result"
    }
   ],
   "source": [
    "#create a new DF for team location\n",
    "team_location_df = df.loc[:,['TEAM,,,,','LATITUDE','LONGITUDE']]\n",
    "team_location_df.rename(columns = {'TEAM,,,,' : 'TEAM'}, inplace=True)\n",
    "team_location_df.head()\n"
   ]
  },
  {
   "cell_type": "code",
   "execution_count": 29,
   "metadata": {},
   "outputs": [
    {
     "data": {
      "text/html": [
       "<div>\n",
       "<style scoped>\n",
       "    .dataframe tbody tr th:only-of-type {\n",
       "        vertical-align: middle;\n",
       "    }\n",
       "\n",
       "    .dataframe tbody tr th {\n",
       "        vertical-align: top;\n",
       "    }\n",
       "\n",
       "    .dataframe thead th {\n",
       "        text-align: right;\n",
       "    }\n",
       "</style>\n",
       "<table border=\"1\" class=\"dataframe\">\n",
       "  <thead>\n",
       "    <tr style=\"text-align: right;\">\n",
       "      <th></th>\n",
       "      <th>TEAM</th>\n",
       "      <th>LATITUDE</th>\n",
       "      <th>LONGITUDE</th>\n",
       "      <th>CRIME</th>\n",
       "    </tr>\n",
       "  </thead>\n",
       "  <tbody>\n",
       "    <tr>\n",
       "      <td>0</td>\n",
       "      <td>Philadelphia Eagles</td>\n",
       "      <td>39.90147</td>\n",
       "      <td>-75.16729</td>\n",
       "      <td>20</td>\n",
       "    </tr>\n",
       "    <tr>\n",
       "      <td>1</td>\n",
       "      <td>San Diego Chargers\",</td>\n",
       "      <td>32.78322</td>\n",
       "      <td>-117.11976</td>\n",
       "      <td>27</td>\n",
       "    </tr>\n",
       "    <tr>\n",
       "      <td>2</td>\n",
       "      <td>Carolina Panthers\",</td>\n",
       "      <td>35.22584</td>\n",
       "      <td>-80.85331</td>\n",
       "      <td>24</td>\n",
       "    </tr>\n",
       "    <tr>\n",
       "      <td>3</td>\n",
       "      <td>Jacksonville Jaguars\",</td>\n",
       "      <td>30.32387</td>\n",
       "      <td>-81.63690</td>\n",
       "      <td>37</td>\n",
       "    </tr>\n",
       "    <tr>\n",
       "      <td>4</td>\n",
       "      <td>Chicago Bers\",</td>\n",
       "      <td>41.86250</td>\n",
       "      <td>-87.61677</td>\n",
       "      <td>32</td>\n",
       "    </tr>\n",
       "  </tbody>\n",
       "</table>\n",
       "</div>"
      ],
      "text/plain": [
       "                     TEAM  LATITUDE  LONGITUDE  CRIME\n",
       "0     Philadelphia Eagles  39.90147  -75.16729     20\n",
       "1    San Diego Chargers\",  32.78322 -117.11976     27\n",
       "2     Carolina Panthers\",  35.22584  -80.85331     24\n",
       "3  Jacksonville Jaguars\",  30.32387  -81.63690     37\n",
       "4          Chicago Bers\",  41.86250  -87.61677     32"
      ]
     },
     "execution_count": 29,
     "metadata": {},
     "output_type": "execute_result"
    }
   ],
   "source": [
    "#merge the 2 data frames\n",
    "combined_df = pd.merge(team_location_df,arrests_df,on=\"TEAM\")\n",
    "combined_df.head()"
   ]
  },
  {
   "cell_type": "code",
   "execution_count": 30,
   "metadata": {},
   "outputs": [
    {
     "data": {
      "application/vnd.jupyter.widget-view+json": {
       "model_id": "931507b5e9b4438faf9234f41eab994c",
       "version_major": 2,
       "version_minor": 0
      },
      "text/plain": [
       "Figure(layout=FigureLayout(height='420px'))"
      ]
     },
     "metadata": {},
     "output_type": "display_data"
    }
   ],
   "source": [
    "#set the location & weight values\n",
    "locations = combined_df[['LATITUDE', 'LONGITUDE']]\n",
    "weights = combined_df['CRIME']\n",
    "\n",
    "#create the gmap figure\n",
    "fig = gmaps.figure()\n",
    "fig.add_layer(gmaps.heatmap_layer(locations, weights=weights, max_intensity=10))\n",
    "fig"
   ]
  },
  {
   "cell_type": "code",
   "execution_count": null,
   "metadata": {},
   "outputs": [],
   "source": []
  }
 ],
 "metadata": {
  "kernelspec": {
   "display_name": "Python 3",
   "language": "python",
   "name": "python3"
  },
  "language_info": {
   "codemirror_mode": {
    "name": "ipython",
    "version": 3
   },
   "file_extension": ".py",
   "mimetype": "text/x-python",
   "name": "python",
   "nbconvert_exporter": "python",
   "pygments_lexer": "ipython3",
   "version": "3.7.4"
  }
 },
 "nbformat": 4,
 "nbformat_minor": 2
}
