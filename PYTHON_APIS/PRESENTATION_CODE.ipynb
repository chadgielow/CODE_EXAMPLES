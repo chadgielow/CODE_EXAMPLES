{
 "cells": [
  {
   "cell_type": "code",
   "execution_count": null,
   "metadata": {},
   "outputs": [],
   "source": [
    "#import libraries\n",
    "import pandas as pd\n",
    "import gmaps\n",
    "\n",
    "# Access maps with unique API key\n",
    "gmaps.configure(api_key='*+++++*')\n",
    "\n",
    "#import, read & create initial data frame\n",
    "csv_path = \"stadiums_nfl.csv\"\n",
    "df = pd.read_csv(csv_path, sep=';')\n",
    "\n",
    "#show column headers\n",
    "df.columns\n",
    "\n",
    "#import, read & create initial data frame\n",
    "csv_path = \"team_arrests.csv\"\n",
    "arrests_df = pd.read_csv(csv_path)\n",
    "arrests_df.head()\n",
    "\n",
    "#create a new DF for team location\n",
    "team_location_df = df.loc[:,['TEAM,,,,','LATITUDE','LONGITUDE']]\n",
    "team_location_df.rename(columns = {'TEAM,,,,' : 'TEAM'}, inplace=True)\n",
    "team_location_df.head()\n",
    "\n",
    "#merge the 2 data frames\n",
    "combined_df = pd.merge(team_location_df,arrests_df,on=\"TEAM\")\n",
    "combined_df.head()\n",
    "\n",
    "#set the location & weight values\n",
    "locations = combined_df[['LATITUDE', 'LONGITUDE']]\n",
    "weights = combined_df['CRIME']\n",
    "\n",
    "#create the gmap figure\n",
    "fig = gmaps.figure()\n",
    "fig.add_layer(gmaps.heatmap_layer(locations, weights=weights, max_intensity=10))\n",
    "fig"
   ]
  }
 ],
 "metadata": {
  "kernelspec": {
   "display_name": "Python 3",
   "language": "python",
   "name": "python3"
  },
  "language_info": {
   "codemirror_mode": {
    "name": "ipython",
    "version": 3
   },
   "file_extension": ".py",
   "mimetype": "text/x-python",
   "name": "python",
   "nbconvert_exporter": "python",
   "pygments_lexer": "ipython3",
   "version": "3.7.4"
  }
 },
 "nbformat": 4,
 "nbformat_minor": 2
}
